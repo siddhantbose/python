{
  "nbformat": 4,
  "nbformat_minor": 0,
  "metadata": {
    "colab": {
      "name": "26/12/19.ipynb",
      "provenance": [],
      "include_colab_link": true
    },
    "kernelspec": {
      "name": "python3",
      "display_name": "Python 3"
    }
  },
  "cells": [
    {
      "cell_type": "markdown",
      "metadata": {
        "id": "view-in-github",
        "colab_type": "text"
      },
      "source": [
        "<a href=\"https://colab.research.google.com/github/siddhantbose/python/blob/master/26_12_19.ipynb\" target=\"_parent\"><img src=\"https://colab.research.google.com/assets/colab-badge.svg\" alt=\"Open In Colab\"/></a>"
      ]
    },
    {
      "cell_type": "code",
      "metadata": {
        "id": "hJ8NP5rXV5Y0",
        "colab_type": "code",
        "colab": {
          "base_uri": "https://localhost:8080/",
          "height": 34
        },
        "outputId": "88d32709-d1c4-4c8c-c07d-805c62c3b180"
      },
      "source": [
        "#find large number from given three numbers\n",
        "p=10\n",
        "q=16\n",
        "r=8\n",
        "if(p>=q)and(p>=r):\n",
        "  print(p)\n",
        "elif(q>=p)and(q>=r):\n",
        "    print(q)\n",
        "else:\n",
        "      print(r)"
      ],
      "execution_count": 3,
      "outputs": [
        {
          "output_type": "stream",
          "text": [
            "16\n"
          ],
          "name": "stdout"
        }
      ]
    },
    {
      "cell_type": "markdown",
      "metadata": {
        "id": "fvxITs7MYyTF",
        "colab_type": "text"
      },
      "source": [
        "#while statement \n",
        "###syntax\n",
        "####while boolean_condition:<br>\n",
        "    statements<br>\n",
        "    Increment/decrement<br/>\n"
      ]
    },
    {
      "cell_type": "code",
      "metadata": {
        "id": "7id2FS66Z9gU",
        "colab_type": "code",
        "colab": {
          "base_uri": "https://localhost:8080/",
          "height": 102
        },
        "outputId": "bde8f664-edb6-47cb-b375-3d1eece9a820"
      },
      "source": [
        "x=0\n",
        "while x<5:\n",
        "  print(\"gitam\")\n",
        "  x=x+1"
      ],
      "execution_count": 4,
      "outputs": [
        {
          "output_type": "stream",
          "text": [
            "gitam\n",
            "gitam\n",
            "gitam\n",
            "gitam\n",
            "gitam\n"
          ],
          "name": "stdout"
        }
      ]
    },
    {
      "cell_type": "code",
      "metadata": {
        "id": "dbFMw6pxb98m",
        "colab_type": "code",
        "colab": {
          "base_uri": "https://localhost:8080/",
          "height": 34
        },
        "outputId": "da27185b-0391-4481-d53f-1c5f999bf8d9"
      },
      "source": [
        "#print n natural number using while loop\n",
        "#input:10\n",
        "#output:1 2 3 4 5 6 7 8 9 10\n",
        "n=10\n",
        "i=1\n",
        "while(i<=n):\n",
        "  print(i,\"\",end=\"\")\n",
        "  i+=1"
      ],
      "execution_count": 6,
      "outputs": [
        {
          "output_type": "stream",
          "text": [
            "1 2 3 4 5 6 7 8 9 10 "
          ],
          "name": "stdout"
        }
      ]
    },
    {
      "cell_type": "code",
      "metadata": {
        "id": "4BjgpymVeZVc",
        "colab_type": "code",
        "colab": {
          "base_uri": "https://localhost:8080/",
          "height": 51
        },
        "outputId": "bf9f5cc6-2a4a-42a4-c54d-a22d17289e8e"
      },
      "source": [
        "#add only even number 1 to n\n",
        "#input:10\n",
        "#output:30(2+4+6+8+10)\n",
        "n=int(input(\"enter any number\"))\n",
        "sum=0\n",
        "i=1\n",
        "while(i<=n):\n",
        "  if(i%2==0):\n",
        "    sum=sum+i\n",
        "  i+=1\n",
        "print(sum)\n"
      ],
      "execution_count": 8,
      "outputs": [
        {
          "output_type": "stream",
          "text": [
            "enter any number10\n",
            "30\n"
          ],
          "name": "stdout"
        }
      ]
    },
    {
      "cell_type": "code",
      "metadata": {
        "id": "CnRDI08lZB4u",
        "colab_type": "code",
        "colab": {
          "base_uri": "https://localhost:8080/",
          "height": 51
        },
        "outputId": "d24a114b-8f1c-4709-bbe2-23580529065c"
      },
      "source": [
        "#palindrome\n",
        "n=int(input(\"enter your number\"))\n",
        "while(n>0):\n",
        "  rem=n%10\n",
        "  print(rem,end=\" \")\n",
        "  n=n//10"
      ],
      "execution_count": 12,
      "outputs": [
        {
          "output_type": "stream",
          "text": [
            "enter your number123\n",
            "3 2 1 "
          ],
          "name": "stdout"
        }
      ]
    },
    {
      "cell_type": "markdown",
      "metadata": {
        "id": "WjDRfQw3kr6C",
        "colab_type": "text"
      },
      "source": [
        "#Functional progreamming\n",
        "- \n",
        "\n",
        "\n",
        "\n",
        "\n",
        "\n",
        "\n",
        "\n",
        "simple\n",
        "easy read\n",
        "divides large program into smaller sub programs\n",
        "\n",
        "#syntax\n",
        "def nameofthefunction()\n",
        "\n",
        "\n",
        "\n",
        "\n"
      ]
    },
    {
      "cell_type": "code",
      "metadata": {
        "id": "pQ5aMUx38kET",
        "colab_type": "code",
        "colab": {}
      },
      "source": [
        ""
      ],
      "execution_count": 0,
      "outputs": []
    },
    {
      "cell_type": "code",
      "metadata": {
        "id": "7jp7FFFB8msA",
        "colab_type": "code",
        "colab": {
          "base_uri": "https://localhost:8080/",
          "height": 68
        },
        "outputId": "794b9280-0b4e-4c5c-86a2-38cb85f59444"
      },
      "source": [
        "li=[0,1,2,3,4,5]\n",
        "print(li)\n",
        "print(li[0])\n",
        "print(li[-1])"
      ],
      "execution_count": 52,
      "outputs": [
        {
          "output_type": "stream",
          "text": [
            "[0, 1, 2, 3, 4, 5]\n",
            "0\n",
            "5\n"
          ],
          "name": "stdout"
        }
      ]
    },
    {
      "cell_type": "code",
      "metadata": {
        "id": "nJMk-O2rocsq",
        "colab_type": "code",
        "colab": {}
      },
      "source": [
        ""
      ],
      "execution_count": 0,
      "outputs": []
    },
    {
      "cell_type": "code",
      "metadata": {
        "id": "BW6JcxgtowQF",
        "colab_type": "code",
        "colab": {}
      },
      "source": [
        ""
      ],
      "execution_count": 0,
      "outputs": []
    },
    {
      "cell_type": "code",
      "metadata": {
        "id": "uP0e-55Ol_Ig",
        "colab_type": "code",
        "colab": {
          "base_uri": "https://localhost:8080/",
          "height": 34
        },
        "outputId": "a1249a43-e1b8-45b4-f431-08f12f62ab3e"
      },
      "source": [
        "def addevendigit(n):\n",
        "  sum=0\n",
        "  while n>0:\n",
        "    r=n%10\n",
        "    if(r%2==0):\n",
        "      sum+=r\n",
        "    n=n//10\n",
        "  return sum\n",
        "addevendigit(1234)\n"
      ],
      "execution_count": 25,
      "outputs": [
        {
          "output_type": "execute_result",
          "data": {
            "text/plain": [
              "6"
            ]
          },
          "metadata": {
            "tags": []
          },
          "execution_count": 25
        }
      ]
    },
    {
      "cell_type": "markdown",
      "metadata": {
        "id": "2tIf697NZIZ9",
        "colab_type": "text"
      },
      "source": [
        ""
      ]
    },
    {
      "cell_type": "code",
      "metadata": {
        "id": "5bsSQ_PrtK19",
        "colab_type": "code",
        "colab": {}
      },
      "source": [
        ""
      ],
      "execution_count": 0,
      "outputs": []
    },
    {
      "cell_type": "markdown",
      "metadata": {
        "id": "Zc8R8gfSZGuO",
        "colab_type": "text"
      },
      "source": [
        ""
      ]
    },
    {
      "cell_type": "code",
      "metadata": {
        "id": "u0EazaZutNcX",
        "colab_type": "code",
        "colab": {}
      },
      "source": [
        ""
      ],
      "execution_count": 0,
      "outputs": []
    },
    {
      "cell_type": "code",
      "metadata": {
        "id": "ZT3M6eHUY4JO",
        "colab_type": "code",
        "colab": {
          "base_uri": "https://localhost:8080/",
          "height": 34
        },
        "outputId": "caa1a923-a217-4d5a-c339-84bcde05ee3f"
      },
      "source": [
        "def largestdigit(n):\n",
        "  largest=0\n",
        "  while n>0:\n",
        "    r=n%10\n",
        "    if(r>largest):\n",
        "      largest=r\n",
        "    n=n//10\n",
        "  return largest\n",
        "largestdigit(19258)"
      ],
      "execution_count": 23,
      "outputs": [
        {
          "output_type": "execute_result",
          "data": {
            "text/plain": [
              "9"
            ]
          },
          "metadata": {
            "tags": []
          },
          "execution_count": 23
        }
      ]
    },
    {
      "cell_type": "code",
      "metadata": {
        "id": "er3yrhx5tigZ",
        "colab_type": "code",
        "colab": {
          "base_uri": "https://localhost:8080/",
          "height": 34
        },
        "outputId": "8143a81e-cb42-49ea-fc07-88bb1f8314b7"
      },
      "source": [
        "def palindrome(n):\n",
        "  pal=0\n",
        "  while(n>0):\n",
        "    rem=n%10\n",
        "    pal=pal*10+rem\n",
        "    n=n//10\n",
        "  return pal\n",
        "palindrome(123)\n",
        "  "
      ],
      "execution_count": 41,
      "outputs": [
        {
          "output_type": "execute_result",
          "data": {
            "text/plain": [
              "321"
            ]
          },
          "metadata": {
            "tags": []
          },
          "execution_count": 41
        }
      ]
    },
    {
      "cell_type": "markdown",
      "metadata": {
        "id": "v3tM3yYgxJgB",
        "colab_type": "text"
      },
      "source": [
        ""
      ]
    },
    {
      "cell_type": "code",
      "metadata": {
        "id": "nAXKoAehyASJ",
        "colab_type": "code",
        "colab": {
          "base_uri": "https://localhost:8080/",
          "height": 34
        },
        "outputId": "49b06057-dae1-40ca-c950-77e0fa478067"
      },
      "source": [
        "def natural(n):\n",
        "  for i in range(1,n+1):\n",
        "    print(i,end=\" \")\n",
        "natural(10)\n"
      ],
      "execution_count": 44,
      "outputs": [
        {
          "output_type": "stream",
          "text": [
            "1 2 3 4 5 6 7 8 9 10 "
          ],
          "name": "stdout"
        }
      ]
    },
    {
      "cell_type": "code",
      "metadata": {
        "id": "UzVRARMh1_hU",
        "colab_type": "code",
        "colab": {
          "base_uri": "https://localhost:8080/",
          "height": 34
        },
        "outputId": "d3d1b520-cc11-44cd-c725-31b116fda2e9"
      },
      "source": [
        "def natural(n):\n",
        "  for i in range(1,n+1):\n",
        "    print(i,end=\" \")\n",
        "natural(10)"
      ],
      "execution_count": 51,
      "outputs": [
        {
          "output_type": "stream",
          "text": [
            "1 2 3 4 5 6 7 8 9 10 "
          ],
          "name": "stdout"
        }
      ]
    },
    {
      "cell_type": "markdown",
      "metadata": {
        "id": "b7Dw-pcv4sNO",
        "colab_type": "text"
      },
      "source": [
        "#Data structure\n",
        "-list\n",
        "-tuple\n",
        "-dictionary\n",
        "#list\n",
        "it is one of the data structure in python\n",
        "#list:\n",
        "#example\n",
        "-list=[1,2,3,4] \n",
        "c-create\n",
        "r-read\n",
        "u-update\n",
        "d-delete\n",
        "-list can be changed\n",
        "example\n",
        "."
      ]
    },
    {
      "cell_type": "code",
      "metadata": {
        "id": "ZC2SPrnovsc5",
        "colab_type": "code",
        "colab": {}
      },
      "source": [
        ""
      ],
      "execution_count": 0,
      "outputs": []
    }
  ]
}