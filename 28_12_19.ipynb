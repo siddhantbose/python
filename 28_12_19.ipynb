{
  "nbformat": 4,
  "nbformat_minor": 0,
  "metadata": {
    "colab": {
      "name": "28/12/19",
      "provenance": [],
      "collapsed_sections": [],
      "include_colab_link": true
    },
    "kernelspec": {
      "name": "python3",
      "display_name": "Python 3"
    }
  },
  "cells": [
    {
      "cell_type": "markdown",
      "metadata": {
        "id": "view-in-github",
        "colab_type": "text"
      },
      "source": [
        "<a href=\"https://colab.research.google.com/github/siddhantbose/python/blob/master/28_12_19.ipynb\" target=\"_parent\"><img src=\"https://colab.research.google.com/assets/colab-badge.svg\" alt=\"Open In Colab\"/></a>"
      ]
    },
    {
      "cell_type": "code",
      "metadata": {
        "id": "b9njWsptrukS",
        "colab_type": "code",
        "colab": {}
      },
      "source": [
        ""
      ],
      "execution_count": 0,
      "outputs": []
    },
    {
      "cell_type": "markdown",
      "metadata": {
        "id": "E6O7BrgXsS0M",
        "colab_type": "text"
      },
      "source": [
        "input str=\"pymative\"\n",
        "output='p','n','t','v'"
      ]
    },
    {
      "cell_type": "code",
      "metadata": {
        "id": "OSfzFXZhs5OM",
        "colab_type": "code",
        "colab": {
          "base_uri": "https://localhost:8080/",
          "height": 34
        },
        "outputId": "c807fc9f-fe79-403f-d195-f799987d589e"
      },
      "source": [
        "#input str=\"pynative\" output='p','n','t','v'\n",
        "def string(n):\n",
        "  li=list(n)\n",
        "  li=li[::2]\n",
        "  print(li)\n",
        "string(\"pynative\")"
      ],
      "execution_count": 9,
      "outputs": [
        {
          "output_type": "stream",
          "text": [
            "['p', 'n', 't', 'v']\n"
          ],
          "name": "stdout"
        }
      ]
    },
    {
      "cell_type": "code",
      "metadata": {
        "id": "e97JPVN52is3",
        "colab_type": "code",
        "colab": {}
      },
      "source": [
        ""
      ],
      "execution_count": 0,
      "outputs": []
    },
    {
      "cell_type": "code",
      "metadata": {
        "id": "84dgkdNJvSG0",
        "colab_type": "code",
        "colab": {
          "base_uri": "https://localhost:8080/",
          "height": 34
        },
        "outputId": "cbf531a2-f414-4fd7-ef58-1f478b452d9d"
      },
      "source": [
        "def lists(n):\n",
        "  if(n[0]==n[-1]):\n",
        "    return \"true\"\n",
        "  else:\n",
        "    return \"false\"\n",
        "lists([1,3,5,7,1])\n"
      ],
      "execution_count": 5,
      "outputs": [
        {
          "output_type": "execute_result",
          "data": {
            "text/plain": [
              "'true'"
            ]
          },
          "metadata": {
            "tags": []
          },
          "execution_count": 5
        }
      ]
    },
    {
      "cell_type": "code",
      "metadata": {
        "id": "STQ0F68zxf3L",
        "colab_type": "code",
        "colab": {}
      },
      "source": [
        ""
      ],
      "execution_count": 0,
      "outputs": []
    },
    {
      "cell_type": "code",
      "metadata": {
        "id": "BzNkfQbtxf5I",
        "colab_type": "code",
        "colab": {
          "base_uri": "https://localhost:8080/",
          "height": 204
        },
        "outputId": "3752522a-db86-4289-8099-9588c6211a8a"
      },
      "source": [
        "for i in range(1,6):\n",
        "  print(\"\\n\")\n",
        "  for j in range(1,i+1):\n",
        "    print(i,end=\" \")"
      ],
      "execution_count": 8,
      "outputs": [
        {
          "output_type": "stream",
          "text": [
            "\n",
            "\n",
            "1 \n",
            "\n",
            "2 2 \n",
            "\n",
            "3 3 3 \n",
            "\n",
            "4 4 4 4 \n",
            "\n",
            "5 5 5 5 5 "
          ],
          "name": "stdout"
        }
      ]
    },
    {
      "cell_type": "code",
      "metadata": {
        "id": "_r38IEbGvLEj",
        "colab_type": "code",
        "colab": {}
      },
      "source": [
        "#input:name:2014\n",
        "user=int(input(\"enter your name\"))\n",
        "age=int(input(\"enter our age\"))\n"
      ],
      "execution_count": 0,
      "outputs": []
    }
  ]
}