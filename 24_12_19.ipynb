{
  "nbformat": 4,
  "nbformat_minor": 0,
  "metadata": {
    "colab": {
      "name": "24/12/19.ipynb",
      "provenance": [],
      "collapsed_sections": [],
      "include_colab_link": true
    },
    "kernelspec": {
      "name": "python3",
      "display_name": "Python 3"
    }
  },
  "cells": [
    {
      "cell_type": "markdown",
      "metadata": {
        "id": "view-in-github",
        "colab_type": "text"
      },
      "source": [
        "<a href=\"https://colab.research.google.com/github/siddhantbose/python/blob/master/24_12_19.ipynb\" target=\"_parent\"><img src=\"https://colab.research.google.com/assets/colab-badge.svg\" alt=\"Open In Colab\"/></a>"
      ]
    },
    {
      "cell_type": "code",
      "metadata": {
        "id": "2EnX6laLC9vA",
        "colab_type": "code",
        "colab": {}
      },
      "source": [
        ""
      ],
      "execution_count": 0,
      "outputs": []
    },
    {
      "cell_type": "code",
      "metadata": {
        "id": "zAwgc9x1K3uM",
        "colab_type": "code",
        "outputId": "4fea1020-5318-4ad4-d1c7-e8499da10b48",
        "colab": {
          "base_uri": "https://localhost:8080/",
          "height": 34
        }
      },
      "source": [
        "print(\"hello world\")\n"
      ],
      "execution_count": 0,
      "outputs": [
        {
          "output_type": "stream",
          "text": [
            "hello world\n"
          ],
          "name": "stdout"
        }
      ]
    },
    {
      "cell_type": "code",
      "metadata": {
        "id": "l02Dc4VULI5P",
        "colab_type": "code",
        "outputId": "b7245f77-c06f-4886-8ddd-85067d72392f",
        "colab": {
          "base_uri": "https://localhost:8080/",
          "height": 34
        }
      },
      "source": [
        "x=12\n",
        "y=12\n",
        "print(x,y)"
      ],
      "execution_count": 0,
      "outputs": [
        {
          "output_type": "stream",
          "text": [
            "12 12\n"
          ],
          "name": "stdout"
        }
      ]
    },
    {
      "cell_type": "code",
      "metadata": {
        "id": "FlWVqMGuLkde",
        "colab_type": "code",
        "outputId": "8b70a3ff-afc3-4602-9f42-5f5b32a3d3aa",
        "colab": {
          "base_uri": "https://localhost:8080/",
          "height": 34
        }
      },
      "source": [
        "x=12\n",
        "y=12\n",
        "print(x+y)\n"
      ],
      "execution_count": 0,
      "outputs": [
        {
          "output_type": "stream",
          "text": [
            "24\n"
          ],
          "name": "stdout"
        }
      ]
    },
    {
      "cell_type": "code",
      "metadata": {
        "id": "EL3vv12LLwt3",
        "colab_type": "code",
        "outputId": "4d2c3073-646f-4ee1-f49d-15982ce6fd13",
        "colab": {
          "base_uri": "https://localhost:8080/",
          "height": 34
        }
      },
      "source": [
        "x=y=z=30\n",
        "print(x,y,z)"
      ],
      "execution_count": 0,
      "outputs": [
        {
          "output_type": "stream",
          "text": [
            "30 30 30\n"
          ],
          "name": "stdout"
        }
      ]
    },
    {
      "cell_type": "code",
      "metadata": {
        "id": "B6u8w_VtL413",
        "colab_type": "code",
        "outputId": "b209a883-7b57-423d-c16a-f21b885c698d",
        "colab": {
          "base_uri": "https://localhost:8080/",
          "height": 34
        }
      },
      "source": [
        "x=13\n",
        "y=24\n",
        "print(x*y)"
      ],
      "execution_count": 0,
      "outputs": [
        {
          "output_type": "stream",
          "text": [
            "312\n"
          ],
          "name": "stdout"
        }
      ]
    },
    {
      "cell_type": "code",
      "metadata": {
        "id": "s6m-6pKHMEGP",
        "colab_type": "code",
        "outputId": "4b893949-9b20-4c58-af96-db8b1630295e",
        "colab": {
          "base_uri": "https://localhost:8080/",
          "height": 34
        }
      },
      "source": [
        "a1,b1,c1=100,200,300\n",
        "print(a1,b1,c1)"
      ],
      "execution_count": 0,
      "outputs": [
        {
          "output_type": "stream",
          "text": [
            "100 200 300\n"
          ],
          "name": "stdout"
        }
      ]
    },
    {
      "cell_type": "markdown",
      "metadata": {
        "id": "hHSEwYT6MoNO",
        "colab_type": "text"
      },
      "source": [
        "#Data types and conversions\n",
        "-int\n",
        "-float\n",
        "-string\n",
        "-complex\n",
        "-boolean\n",
        "\n"
      ]
    },
    {
      "cell_type": "code",
      "metadata": {
        "id": "16n1d5tONTDX",
        "colab_type": "code",
        "outputId": "3561e232-e02c-44cc-a13a-ca1eab311140",
        "colab": {
          "base_uri": "https://localhost:8080/",
          "height": 68
        }
      },
      "source": [
        "x=10\n",
        "y=12.56\n",
        "z=3+5j\n",
        "print(type(x))\n",
        "print(type(y))\n",
        "print(type(z))"
      ],
      "execution_count": 0,
      "outputs": [
        {
          "output_type": "stream",
          "text": [
            "<class 'int'>\n",
            "<class 'float'>\n",
            "<class 'complex'>\n"
          ],
          "name": "stdout"
        }
      ]
    },
    {
      "cell_type": "code",
      "metadata": {
        "id": "enX5VzO3OQqe",
        "colab_type": "code",
        "outputId": "ad8f8dd1-0575-4c65-a67b-8076f66a2f96",
        "colab": {
          "base_uri": "https://localhost:8080/",
          "height": 34
        }
      },
      "source": [
        "x=4\n",
        "y=10\n",
        "x<y"
      ],
      "execution_count": 0,
      "outputs": [
        {
          "output_type": "execute_result",
          "data": {
            "text/plain": [
              "True"
            ]
          },
          "metadata": {
            "tags": []
          },
          "execution_count": 8
        }
      ]
    },
    {
      "cell_type": "code",
      "metadata": {
        "id": "obsP8n6oOna1",
        "colab_type": "code",
        "outputId": "38ba831f-9984-402b-b7b5-f44732fadf3f",
        "colab": {
          "base_uri": "https://localhost:8080/",
          "height": 51
        }
      },
      "source": [
        "s1=\"abc\"\n",
        "s2=\"xyz\"\n",
        "print(type(s1))\n",
        "print(type(s2))"
      ],
      "execution_count": 0,
      "outputs": [
        {
          "output_type": "stream",
          "text": [
            "<class 'str'>\n",
            "<class 'str'>\n"
          ],
          "name": "stdout"
        }
      ]
    },
    {
      "cell_type": "code",
      "metadata": {
        "id": "Qv6G7iYdPeuR",
        "colab_type": "code",
        "outputId": "cc54ae91-2cf6-4bb9-9026-72f6d68672fd",
        "colab": {
          "base_uri": "https://localhost:8080/",
          "height": 34
        }
      },
      "source": [
        "https://cosmos-images2.imgix.net/file/spina/photo/20565/191010_nature.jpg?ixlib=rails-2.1.4&auto=format&ch=Width%2CDPR&fit=max&w=835"
      ],
      "execution_count": 0,
      "outputs": [
        {
          "output_type": "stream",
          "text": [
            "<class 'int'>\n"
          ],
          "name": "stdout"
        }
      ]
    },
    {
      "cell_type": "code",
      "metadata": {
        "id": "qmS7cfLaP2Qs",
        "colab_type": "code",
        "outputId": "198e4968-80ab-4cb6-f810-cbb27e0e3314",
        "colab": {
          "base_uri": "https://localhost:8080/",
          "height": 68
        }
      },
      "source": [
        "i=200\n",
        "print(type(i))\n",
        "s1=str(i)\n",
        "print(type(s1))\n",
        "f=float(i)\n",
        "print(type(f))\n"
      ],
      "execution_count": 0,
      "outputs": [
        {
          "output_type": "stream",
          "text": [
            "<class 'int'>\n",
            "<class 'str'>\n",
            "<class 'float'>\n"
          ],
          "name": "stdout"
        }
      ]
    },
    {
      "cell_type": "code",
      "metadata": {
        "id": "B8PxMHeFQX0V",
        "colab_type": "code",
        "outputId": "ab90f304-ab90-455f-e8fd-24dd84cdbbc6",
        "colab": {
          "base_uri": "https://localhost:8080/",
          "height": 34
        }
      },
      "source": [
        "c=complex(3,5)\n",
        "print(c)\n"
      ],
      "execution_count": 0,
      "outputs": [
        {
          "output_type": "stream",
          "text": [
            "(3+5j)\n"
          ],
          "name": "stdout"
        }
      ]
    },
    {
      "cell_type": "code",
      "metadata": {
        "id": "ZJybHa4iQgC-",
        "colab_type": "code",
        "colab": {}
      },
      "source": [
        ""
      ],
      "execution_count": 0,
      "outputs": []
    },
    {
      "cell_type": "markdown",
      "metadata": {
        "id": "1b17OlViQpNo",
        "colab_type": "text"
      },
      "source": [
        "#reading a value----input function"
      ]
    },
    {
      "cell_type": "code",
      "metadata": {
        "id": "Pp8n4QrXQz93",
        "colab_type": "code",
        "outputId": "6dc15563-9d82-4b60-abbc-09af47e5e4fb",
        "colab": {
          "base_uri": "https://localhost:8080/",
          "height": 51
        }
      },
      "source": [
        "s=input(\"enter name\")\n",
        "print(s)\n"
      ],
      "execution_count": 0,
      "outputs": [
        {
          "output_type": "stream",
          "text": [
            "enter namesiddhant\n",
            "siddhant\n"
          ],
          "name": "stdout"
        }
      ]
    },
    {
      "cell_type": "code",
      "metadata": {
        "id": "X7j406dHRcOo",
        "colab_type": "code",
        "outputId": "5e26561d-ecb3-423a-de00-9cbd13288a72",
        "colab": {
          "base_uri": "https://localhost:8080/",
          "height": 68
        }
      },
      "source": [
        "a=int(input(\"enter your age\"))\n",
        "print(s)\n",
        "print(type(s))"
      ],
      "execution_count": 0,
      "outputs": [
        {
          "output_type": "stream",
          "text": [
            "enter your age21\n",
            "siddhant\n",
            "<class 'str'>\n"
          ],
          "name": "stdout"
        }
      ]
    },
    {
      "cell_type": "markdown",
      "metadata": {
        "id": "mCxy7XcDSTWI",
        "colab_type": "text"
      },
      "source": [
        "#operators\n",
        "-operator is a symbol is used to perform a specific kind of operation.\n",
        "\n",
        "#arithematic operators\n",
        "+\n",
        "-\n",
        "*\n",
        "/\n",
        "%\n",
        "//\n",
        "**"
      ]
    },
    {
      "cell_type": "markdown",
      "metadata": {
        "id": "wO4716_GW9nu",
        "colab_type": "text"
      },
      "source": [
        "#relational operator\n",
        ">\n",
        "<\n",
        "<=\n",
        "!=\n",
        "==\n"
      ]
    },
    {
      "cell_type": "code",
      "metadata": {
        "id": "x2Rjm7YLXP9z",
        "colab_type": "code",
        "colab": {}
      },
      "source": [
        ""
      ],
      "execution_count": 0,
      "outputs": []
    },
    {
      "cell_type": "markdown",
      "metadata": {
        "id": "BM4eRcLAXTyl",
        "colab_type": "text"
      },
      "source": [
        ""
      ]
    },
    {
      "cell_type": "code",
      "metadata": {
        "id": "85LHxqC_XVy1",
        "colab_type": "code",
        "outputId": "159632d6-942f-4451-f4d6-b768add54bf5",
        "colab": {
          "base_uri": "https://localhost:8080/",
          "height": 34
        }
      },
      "source": [
        "a=10\n",
        "a1=a>15\n",
        "print(a1)\n"
      ],
      "execution_count": 0,
      "outputs": [
        {
          "output_type": "stream",
          "text": [
            "False\n"
          ],
          "name": "stdout"
        }
      ]
    },
    {
      "cell_type": "markdown",
      "metadata": {
        "id": "E7NnMJAaXvsr",
        "colab_type": "text"
      },
      "source": [
        "# logical operator\n",
        "- and\n",
        "- or\n"
      ]
    },
    {
      "cell_type": "code",
      "metadata": {
        "id": "pjJaDpLoYBJk",
        "colab_type": "code",
        "outputId": "aa4de00d-c70e-4b88-9723-3fc83922b9ab",
        "colab": {
          "base_uri": "https://localhost:8080/",
          "height": 68
        }
      },
      "source": [
        "x=20\n",
        "y=30\n",
        "print(x>=10 and x<=20)\n",
        "print(x>=10 or x>=20)\n",
        "print(not x)\n"
      ],
      "execution_count": 0,
      "outputs": [
        {
          "output_type": "stream",
          "text": [
            "True\n",
            "True\n",
            "False\n"
          ],
          "name": "stdout"
        }
      ]
    },
    {
      "cell_type": "markdown",
      "metadata": {
        "id": "7zeyZOixYzV7",
        "colab_type": "text"
      },
      "source": [
        "# membership operators"
      ]
    },
    {
      "cell_type": "code",
      "metadata": {
        "id": "-6NIvcnZZGwz",
        "colab_type": "code",
        "outputId": "73937870-a47a-4569-e326-f5dc21565927",
        "colab": {
          "base_uri": "https://localhost:8080/",
          "height": 51
        }
      },
      "source": [
        "str1= \"abc\"\n",
        "print('a' in str1)\n",
        "print('a' not in str1)"
      ],
      "execution_count": 0,
      "outputs": [
        {
          "output_type": "stream",
          "text": [
            "True\n",
            "False\n"
          ],
          "name": "stdout"
        }
      ]
    },
    {
      "cell_type": "markdown",
      "metadata": {
        "id": "9spn1E_vZjrz",
        "colab_type": "text"
      },
      "source": [
        "conditional statements\n",
        "## if-else-statements\n",
        "### syntax\n",
        "##### if condition:\n",
        ">statements<br>\n",
        "######else:\n",
        ">statements"
      ]
    },
    {
      "cell_type": "code",
      "metadata": {
        "id": "KRrLrED4aLAj",
        "colab_type": "code",
        "outputId": "ad7cf142-127b-40ce-d57b-0537d75d4397",
        "colab": {
          "base_uri": "https://localhost:8080/",
          "height": 51
        }
      },
      "source": [
        "#odd or even\n",
        "n=int(input(\"enter a number\"))\n",
        "if n%2==0:\n",
        "  print(\"even\")\n",
        "else:\n",
        "  print(\"odd\")"
      ],
      "execution_count": 0,
      "outputs": [
        {
          "output_type": "stream",
          "text": [
            "enter a number4\n",
            "even\n"
          ],
          "name": "stdout"
        }
      ]
    },
    {
      "cell_type": "markdown",
      "metadata": {
        "id": "Bkm0_qWBb1M-",
        "colab_type": "text"
      },
      "source": [
        "#check given is perfectly multiple of 3 and 5"
      ]
    },
    {
      "cell_type": "code",
      "metadata": {
        "id": "4pPUvp9-cEkb",
        "colab_type": "code",
        "outputId": "e03cea02-eaf1-491e-9548-abdd55cb34eb",
        "colab": {
          "base_uri": "https://localhost:8080/",
          "height": 51
        }
      },
      "source": [
        "n=int(input(\"enter a number\"))\n",
        "if n%3==0 and n%5==0:\n",
        "  print(\"divisible\")\n",
        "else:\n",
        "    print(\"not divisible\")"
      ],
      "execution_count": 0,
      "outputs": [
        {
          "output_type": "stream",
          "text": [
            "enter a number15\n",
            "divisible\n"
          ],
          "name": "stdout"
        }
      ]
    },
    {
      "cell_type": "markdown",
      "metadata": {
        "id": "f1GiomsdcyEW",
        "colab_type": "text"
      },
      "source": [
        "#psitive,negative or neutral"
      ]
    },
    {
      "cell_type": "code",
      "metadata": {
        "id": "1_WPBlNUc8vm",
        "colab_type": "code",
        "outputId": "73e4904a-0725-4dc0-b624-d7568138faad",
        "colab": {
          "base_uri": "https://localhost:8080/",
          "height": 51
        }
      },
      "source": [
        "n=int(input(\"enter a number\"))\n",
        "if n>0:\n",
        "  print(\"positive\")\n",
        "elif n==0:\n",
        "  print(\"neutral\")\n",
        "else:\n",
        "  print(\"negative\") "
      ],
      "execution_count": 0,
      "outputs": [
        {
          "output_type": "stream",
          "text": [
            "enter a number-98\n",
            "negative\n"
          ],
          "name": "stdout"
        }
      ]
    },
    {
      "cell_type": "markdown",
      "metadata": {
        "id": "IGwywq9oeTnG",
        "colab_type": "text"
      },
      "source": [
        "# given year is a leap year or not"
      ]
    },
    {
      "cell_type": "code",
      "metadata": {
        "id": "n2YIteBKc284",
        "colab_type": "code",
        "colab": {}
      },
      "source": [
        ""
      ],
      "execution_count": 0,
      "outputs": []
    },
    {
      "cell_type": "markdown",
      "metadata": {
        "id": "iu9jTDhjb3Vt",
        "colab_type": "text"
      },
      "source": [
        ""
      ]
    },
    {
      "cell_type": "code",
      "metadata": {
        "id": "WEafHPKoX7Bz",
        "colab_type": "code",
        "colab": {}
      },
      "source": [
        ""
      ],
      "execution_count": 0,
      "outputs": []
    },
    {
      "cell_type": "code",
      "metadata": {
        "id": "Ro8sfTHHPwoZ",
        "colab_type": "code",
        "colab": {}
      },
      "source": [
        ""
      ],
      "execution_count": 0,
      "outputs": []
    }
  ]
}